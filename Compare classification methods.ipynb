{
 "cells": [
  {
   "cell_type": "code",
   "execution_count": 50,
   "metadata": {},
   "outputs": [],
   "source": [
    "# import libraries\n",
    "\n",
    "import pandas as pd\n",
    "import seaborn as sns\n",
    "import matplotlib.pyplot as plt\n",
    "import numpy as np\n",
    "from sklearn.datasets import make_blobs\n",
    "from sklearn.cluster import KMeans\n",
    "from sklearn.metrics import silhouette_score\n",
    "from sklearn.preprocessing import StandardScaler\n",
    "from sklearn.metrics import plot_confusion_matrix\n",
    "from sklearn.preprocessing import MinMaxScaler\n",
    "from sklearn.model_selection import train_test_split\n",
    "from sklearn.linear_model import LogisticRegression\n",
    "from sklearn.tree import DecisionTreeClassifier\n",
    "from sklearn.neighbors import KNeighborsClassifier\n"
   ]
  },
  {
   "cell_type": "code",
   "execution_count": 51,
   "metadata": {},
   "outputs": [
    {
     "data": {
      "text/html": [
       "<div>\n",
       "<style scoped>\n",
       "    .dataframe tbody tr th:only-of-type {\n",
       "        vertical-align: middle;\n",
       "    }\n",
       "\n",
       "    .dataframe tbody tr th {\n",
       "        vertical-align: top;\n",
       "    }\n",
       "\n",
       "    .dataframe thead th {\n",
       "        text-align: right;\n",
       "    }\n",
       "</style>\n",
       "<table border=\"1\" class=\"dataframe\">\n",
       "  <thead>\n",
       "    <tr style=\"text-align: right;\">\n",
       "      <th></th>\n",
       "      <th>Disease</th>\n",
       "      <th>Disease_label</th>\n",
       "      <th>Mean_R</th>\n",
       "      <th>Mean_G</th>\n",
       "      <th>Mean_B</th>\n",
       "      <th>Mean_H</th>\n",
       "      <th>Mean_S</th>\n",
       "      <th>Mean_V</th>\n",
       "      <th>Mean_L</th>\n",
       "      <th>Mean_A</th>\n",
       "      <th>...</th>\n",
       "      <th>G/B</th>\n",
       "      <th>G/R</th>\n",
       "      <th>R/G</th>\n",
       "      <th>GLI</th>\n",
       "      <th>VARI</th>\n",
       "      <th>Logsig</th>\n",
       "      <th>(G-B)/(R+G+B)</th>\n",
       "      <th>(G+B)/R</th>\n",
       "      <th>(R+G+B)/R</th>\n",
       "      <th>b*/a*</th>\n",
       "    </tr>\n",
       "  </thead>\n",
       "  <tbody>\n",
       "    <tr>\n",
       "      <th>0</th>\n",
       "      <td>BS</td>\n",
       "      <td>1</td>\n",
       "      <td>0.458183</td>\n",
       "      <td>0.367428</td>\n",
       "      <td>0.256259</td>\n",
       "      <td>0.090664</td>\n",
       "      <td>0.468456</td>\n",
       "      <td>0.458183</td>\n",
       "      <td>40.988342</td>\n",
       "      <td>5.403956</td>\n",
       "      <td>...</td>\n",
       "      <td>1.433816</td>\n",
       "      <td>0.801925</td>\n",
       "      <td>1.247000</td>\n",
       "      <td>0.014086</td>\n",
       "      <td>-0.159400</td>\n",
       "      <td>0.000362</td>\n",
       "      <td>0.102757</td>\n",
       "      <td>1.361219</td>\n",
       "      <td>2.361219</td>\n",
       "      <td>3.658573</td>\n",
       "    </tr>\n",
       "    <tr>\n",
       "      <th>1</th>\n",
       "      <td>BS</td>\n",
       "      <td>1</td>\n",
       "      <td>0.444957</td>\n",
       "      <td>0.361174</td>\n",
       "      <td>0.254726</td>\n",
       "      <td>0.091773</td>\n",
       "      <td>0.452171</td>\n",
       "      <td>0.444957</td>\n",
       "      <td>40.156262</td>\n",
       "      <td>4.783251</td>\n",
       "      <td>...</td>\n",
       "      <td>1.417890</td>\n",
       "      <td>0.811705</td>\n",
       "      <td>1.231974</td>\n",
       "      <td>0.015938</td>\n",
       "      <td>-0.151945</td>\n",
       "      <td>0.000363</td>\n",
       "      <td>0.100341</td>\n",
       "      <td>1.384179</td>\n",
       "      <td>2.384179</td>\n",
       "      <td>3.938288</td>\n",
       "    </tr>\n",
       "    <tr>\n",
       "      <th>2</th>\n",
       "      <td>BS</td>\n",
       "      <td>1</td>\n",
       "      <td>0.432797</td>\n",
       "      <td>0.346328</td>\n",
       "      <td>0.264451</td>\n",
       "      <td>0.081628</td>\n",
       "      <td>0.427243</td>\n",
       "      <td>0.432870</td>\n",
       "      <td>38.814850</td>\n",
       "      <td>5.943410</td>\n",
       "      <td>...</td>\n",
       "      <td>1.309609</td>\n",
       "      <td>0.800209</td>\n",
       "      <td>1.249674</td>\n",
       "      <td>-0.003304</td>\n",
       "      <td>-0.168007</td>\n",
       "      <td>0.000340</td>\n",
       "      <td>0.078458</td>\n",
       "      <td>1.411238</td>\n",
       "      <td>2.411238</td>\n",
       "      <td>2.612775</td>\n",
       "    </tr>\n",
       "    <tr>\n",
       "      <th>3</th>\n",
       "      <td>BS</td>\n",
       "      <td>1</td>\n",
       "      <td>0.381374</td>\n",
       "      <td>0.315278</td>\n",
       "      <td>0.241140</td>\n",
       "      <td>0.090207</td>\n",
       "      <td>0.401574</td>\n",
       "      <td>0.381425</td>\n",
       "      <td>35.118157</td>\n",
       "      <td>3.997627</td>\n",
       "      <td>...</td>\n",
       "      <td>1.307448</td>\n",
       "      <td>0.826689</td>\n",
       "      <td>1.209644</td>\n",
       "      <td>0.006418</td>\n",
       "      <td>-0.145103</td>\n",
       "      <td>0.000326</td>\n",
       "      <td>0.079056</td>\n",
       "      <td>1.458981</td>\n",
       "      <td>2.458981</td>\n",
       "      <td>3.439206</td>\n",
       "    </tr>\n",
       "    <tr>\n",
       "      <th>4</th>\n",
       "      <td>BS</td>\n",
       "      <td>1</td>\n",
       "      <td>0.534813</td>\n",
       "      <td>0.426064</td>\n",
       "      <td>0.307500</td>\n",
       "      <td>0.085403</td>\n",
       "      <td>0.456898</td>\n",
       "      <td>0.534890</td>\n",
       "      <td>47.464902</td>\n",
       "      <td>6.699040</td>\n",
       "      <td>...</td>\n",
       "      <td>1.385573</td>\n",
       "      <td>0.796660</td>\n",
       "      <td>1.255240</td>\n",
       "      <td>0.005793</td>\n",
       "      <td>-0.166441</td>\n",
       "      <td>0.000415</td>\n",
       "      <td>0.093477</td>\n",
       "      <td>1.371628</td>\n",
       "      <td>2.371628</td>\n",
       "      <td>3.114831</td>\n",
       "    </tr>\n",
       "  </tbody>\n",
       "</table>\n",
       "<p>5 rows × 38 columns</p>\n",
       "</div>"
      ],
      "text/plain": [
       "  Disease  Disease_label    Mean_R    Mean_G    Mean_B    Mean_H    Mean_S  \\\n",
       "0      BS              1  0.458183  0.367428  0.256259  0.090664  0.468456   \n",
       "1      BS              1  0.444957  0.361174  0.254726  0.091773  0.452171   \n",
       "2      BS              1  0.432797  0.346328  0.264451  0.081628  0.427243   \n",
       "3      BS              1  0.381374  0.315278  0.241140  0.090207  0.401574   \n",
       "4      BS              1  0.534813  0.426064  0.307500  0.085403  0.456898   \n",
       "\n",
       "     Mean_V     Mean_L    Mean_A  ...       G/B       G/R       R/G       GLI  \\\n",
       "0  0.458183  40.988342  5.403956  ...  1.433816  0.801925  1.247000  0.014086   \n",
       "1  0.444957  40.156262  4.783251  ...  1.417890  0.811705  1.231974  0.015938   \n",
       "2  0.432870  38.814850  5.943410  ...  1.309609  0.800209  1.249674 -0.003304   \n",
       "3  0.381425  35.118157  3.997627  ...  1.307448  0.826689  1.209644  0.006418   \n",
       "4  0.534890  47.464902  6.699040  ...  1.385573  0.796660  1.255240  0.005793   \n",
       "\n",
       "       VARI    Logsig  (G-B)/(R+G+B)   (G+B)/R  (R+G+B)/R     b*/a*  \n",
       "0 -0.159400  0.000362       0.102757  1.361219   2.361219  3.658573  \n",
       "1 -0.151945  0.000363       0.100341  1.384179   2.384179  3.938288  \n",
       "2 -0.168007  0.000340       0.078458  1.411238   2.411238  2.612775  \n",
       "3 -0.145103  0.000326       0.079056  1.458981   2.458981  3.439206  \n",
       "4 -0.166441  0.000415       0.093477  1.371628   2.371628  3.114831  \n",
       "\n",
       "[5 rows x 38 columns]"
      ]
     },
     "execution_count": 51,
     "metadata": {},
     "output_type": "execute_result"
    }
   ],
   "source": [
    "#Import dataset\n",
    "df=pd.read_csv('ss.csv')\n",
    "df.head()"
   ]
  },
  {
   "cell_type": "code",
   "execution_count": 52,
   "metadata": {},
   "outputs": [],
   "source": [
    "#Removing Disease column\n",
    "X=df.drop(['Disease_label','Disease'], axis = 1)\n",
    "y = df['Disease_label']"
   ]
  },
  {
   "cell_type": "code",
   "execution_count": 64,
   "metadata": {},
   "outputs": [],
   "source": [
    "#Split the data by Train : Test =80:20\n",
    "X_train, X_test, y_train, y_test = train_test_split(X, y, test_size=0.20,random_state=0)\n",
    "\n",
    "# Standardize the data\n",
    "scaler = StandardScaler()\n",
    "X_train = scaler.fit_transform(X_train)\n",
    "X_test = scaler.transform(X_test)"
   ]
  },
  {
   "cell_type": "code",
   "execution_count": 60,
   "metadata": {},
   "outputs": [
    {
     "name": "stdout",
     "output_type": "stream",
     "text": [
      "Accuracy of Logistic regression classifier on training set: 0.87\n",
      "Accuracy of Logistic regression classifier on test set: 0.79\n"
     ]
    }
   ],
   "source": [
    "#Logistic Regression classifier\n",
    "logreg = LogisticRegression()\n",
    "logreg.fit(X_train, y_train)\n",
    "print('Accuracy of Logistic regression classifier on training set: {:.2f}'\n",
    "     .format(logreg.score(X_train, y_train)))\n",
    "print('Accuracy of Logistic regression classifier on test set: {:.2f}'\n",
    "     .format(logreg.score(X_test, y_test)))"
   ]
  },
  {
   "cell_type": "code",
   "execution_count": 61,
   "metadata": {},
   "outputs": [
    {
     "name": "stdout",
     "output_type": "stream",
     "text": [
      "Accuracy of Decision Tree classifier on training set: 1.00\n",
      "Accuracy of Decision Tree classifier on test set: 0.84\n"
     ]
    }
   ],
   "source": [
    "# Decision Tree classifier\n",
    "clf = DecisionTreeClassifier().fit(X_train, y_train)\n",
    "print('Accuracy of Decision Tree classifier on training set: {:.2f}'\n",
    "     .format(clf.score(X_train, y_train)))\n",
    "print('Accuracy of Decision Tree classifier on test set: {:.2f}'\n",
    "     .format(clf.score(X_test, y_test)))"
   ]
  },
  {
   "cell_type": "code",
   "execution_count": 62,
   "metadata": {},
   "outputs": [
    {
     "name": "stdout",
     "output_type": "stream",
     "text": [
      "Accuracy of K-NN classifier on training set: 0.89\n",
      "Accuracy of K-NN classifier on test set: 0.84\n"
     ]
    }
   ],
   "source": [
    "# KNN classifier\n",
    "knn = KNeighborsClassifier()\n",
    "knn.fit(X_train, y_train)\n",
    "print('Accuracy of K-NN classifier on training set: {:.2f}'\n",
    "     .format(knn.score(X_train, y_train)))\n",
    "print('Accuracy of K-NN classifier on test set: {:.2f}'\n",
    "     .format(knn.score(X_test, y_test)))"
   ]
  },
  {
   "cell_type": "code",
   "execution_count": 63,
   "metadata": {},
   "outputs": [
    {
     "name": "stdout",
     "output_type": "stream",
     "text": [
      "[[20  4]\n",
      " [ 3 16]]\n",
      "              precision    recall  f1-score   support\n",
      "\n",
      "           0       0.87      0.83      0.85        24\n",
      "           1       0.80      0.84      0.82        19\n",
      "\n",
      "    accuracy                           0.84        43\n",
      "   macro avg       0.83      0.84      0.84        43\n",
      "weighted avg       0.84      0.84      0.84        43\n",
      "\n"
     ]
    }
   ],
   "source": [
    "#Confusion Matrix\n",
    "from sklearn.metrics import classification_report\n",
    "from sklearn.metrics import confusion_matrix\n",
    "pred = knn.predict(X_test)\n",
    "print(confusion_matrix(y_test, pred))\n",
    "print(classification_report(y_test, pred))"
   ]
  },
  {
   "cell_type": "code",
   "execution_count": 58,
   "metadata": {},
   "outputs": [
    {
     "data": {
      "text/plain": [
       "<sklearn.metrics._plot.confusion_matrix.ConfusionMatrixDisplay at 0x275318fef70>"
      ]
     },
     "execution_count": 58,
     "metadata": {},
     "output_type": "execute_result"
    },
    {
     "data": {
      "image/png": "[encoded data removed]",
      "text/plain": [
       "<Figure size 432x288 with 2 Axes>"
      ]
     },
     "metadata": {
      "needs_background": "light"
     },
     "output_type": "display_data"
    }
   ],
   "source": [
    "plot_confusion_matrix(knn,\n",
    "                     X_test,\n",
    "                     y_test,\n",
    "                     \n",
    "                     display_labels=[\"Rice Blast\",\"Brown Spot\"])"
   ]
  }
 ],
 "metadata": {
  "kernelspec": {
   "display_name": "Python 3.9.12 ('msc_project')",
   "language": "python",
   "name": "python3"
  },
  "language_info": {
   "codemirror_mode": {
    "name": "ipython",
    "version": 3
   },
   "file_extension": ".py",
   "mimetype": "text/x-python",
   "name": "python",
   "nbconvert_exporter": "python",
   "pygments_lexer": "ipython3",
   "version": "3.9.12"
  },
  "vscode": {
   "interpreter": {
    "hash": "135773bf58e6095051471bd72b6c42a2b4f85ab8b287d6603681753095dfd262"
   }
  }
 },
 "nbformat": 4,
 "nbformat_minor": 4
}
